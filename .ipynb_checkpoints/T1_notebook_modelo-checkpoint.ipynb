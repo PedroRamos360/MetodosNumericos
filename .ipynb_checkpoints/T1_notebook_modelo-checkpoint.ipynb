{
 "cells": [
  {
   "cell_type": "markdown",
   "metadata": {
    "colab_type": "text",
    "id": "gP4KLr0uyjc-"
   },
   "source": [
    "# Trabalho T1 sobre Erros e Zeros de Funções\n",
    "## Métodos Numéricos Computacionais\n",
    "### UFSM - 1º Semestre de 2023"
   ]
  },
  {
   "cell_type": "markdown",
   "metadata": {},
   "source": [
    "**Nome dos integrantes do grupo:**"
   ]
  },
  {
   "cell_type": "markdown",
   "metadata": {
    "colab_type": "text",
    "id": "LwlLvHuLy9qL"
   },
   "source": [
    "**Questão 1:**\n",
    "Pesquise e responda: O que é o ``Épsilon da Máquina''? Apresente um programa em python para obter o épsilon do computador que você usa. Qual o valor obtido com seu programa?  \n",
    "\n",
    "\n",
    "\n"
   ]
  },
  {
   "cell_type": "code",
   "execution_count": 6,
   "metadata": {},
   "outputs": [
    {
     "name": "stdout",
     "output_type": "stream",
     "text": [
      "1.1102230246251565e-16\n"
     ]
    }
   ],
   "source": [
    "# O épsilon representa a exatidão relativa da aritmética do computador. Pode ser descrito como o menor número\n",
    "# que somado a 1 produz um resultado diferente de 1, ou seja o menor número que pode ser representado sem ser\n",
    "# arredondado\n",
    "epsilon = 1\n",
    "while 1 + epsilon > 1:\n",
    "    epsilon /= 2\n",
    "\n",
    "print(epsilon)"
   ]
  },
  {
   "cell_type": "markdown",
   "metadata": {
    "colab": {},
    "colab_type": "code",
    "id": "vNI4DHyRFWlt"
   },
   "source": [
    "**Questão 2:** Com base no procedimento visto em aula para conversão de números em base binária para base decimal e de base decimal para binária, construa um programa para converter o número $(1230110)_4$ da base $4$ para a base $10$. Além disso, faça um programa para converter o número $(981)_\n",
    "{10}$ da base $10$ para a base $3$."
   ]
  },
  {
   "cell_type": "code",
   "execution_count": 37,
   "metadata": {},
   "outputs": [
    {
     "name": "stdout",
     "output_type": "stream",
     "text": [
      "6932\n",
      "1100100\n"
     ]
    }
   ],
   "source": [
    "def any_base_to_decimal(base, number):\n",
    "    number_str = str(number)\n",
    "    decimal_number = 0\n",
    "    length = len(number_str)\n",
    "    maxIndex = length - 1\n",
    "    for i in range(length):\n",
    "        decimal_number += (base**(maxIndex - i)) * int(number_str[i])\n",
    "\n",
    "    return decimal_number\n",
    "\n",
    "def decimal_to_any_base(number, base):\n",
    "    any_base_number = \"\"\n",
    "    while number // base != 0:\n",
    "        remainder = number % base\n",
    "        any_base_number += str(remainder)\n",
    "        number = number // base\n",
    "\n",
    "    any_base_number += str(number%base)\n",
    "    \n",
    "    return any_base_number[::-1]\n",
    "\n",
    "print(any_base_to_decimal(4, 1230110))\n",
    "print(decimal_to_any_base(981, 3))"
   ]
  },
  {
   "cell_type": "markdown",
   "metadata": {
    "colab_type": "text",
    "id": "fYvVJzIk06mi"
   },
   "source": [
    "**Questão 3:** Considere as expressões \n",
    "$$\\frac{e^{1/x}}{1+e^{1/x}} \\,\\,\\,\\,\\,\\,\\,  \\,\\,\\,\\,\\,\\,\\,\\,\\, \\frac{1}{e^{-1/x}+1}$$\n",
    "Verifique que, para $x>0$, são funções idênticas, então, use um programa em Python para testar o valor de cada uma para alguns valores de $x$ entre $0.1$ e $0.001$. Qual dessas expressões é mais adequada quando $x$ é um número pequeno? Explique.   "
   ]
  },
  {
   "cell_type": "code",
   "execution_count": 55,
   "metadata": {
    "colab": {},
    "colab_type": "code",
    "id": "ZP_YwCgE1Qyz"
   },
   "outputs": [
    {
     "name": "stdout",
     "output_type": "stream",
     "text": [
      "x:  0.1\n",
      "f2:  0.9999546021312976\n",
      "f1:  0.9999546021312976\n",
      "x:  0.02\n",
      "f2:  1.0\n",
      "f1:  1.0\n",
      "x:  0.01\n",
      "f2:  1.0\n",
      "f1:  1.0\n",
      "x:  0.002\n",
      "f2:  1.0\n",
      "f1:  1.0\n",
      "x:  0.0015\n",
      "f2:  1.0\n",
      "f1:  1.0\n",
      "x:  0.001\n",
      "f2:  1.0\n"
     ]
    },
    {
     "ename": "OverflowError",
     "evalue": "(34, 'Numerical result out of range')",
     "output_type": "error",
     "traceback": [
      "\u001b[0;31m---------------------------------------------------------------------------\u001b[0m",
      "\u001b[0;31mOverflowError\u001b[0m                             Traceback (most recent call last)",
      "Cell \u001b[0;32mIn[55], line 13\u001b[0m\n\u001b[1;32m     11\u001b[0m \u001b[38;5;28mprint\u001b[39m(\u001b[38;5;124m\"\u001b[39m\u001b[38;5;124mx: \u001b[39m\u001b[38;5;124m\"\u001b[39m, x)\n\u001b[1;32m     12\u001b[0m \u001b[38;5;28mprint\u001b[39m(\u001b[38;5;124m\"\u001b[39m\u001b[38;5;124mf2: \u001b[39m\u001b[38;5;124m\"\u001b[39m, f2(x))\n\u001b[0;32m---> 13\u001b[0m \u001b[38;5;28mprint\u001b[39m(\u001b[38;5;124m\"\u001b[39m\u001b[38;5;124mf1: \u001b[39m\u001b[38;5;124m\"\u001b[39m, \u001b[43mf1\u001b[49m\u001b[43m(\u001b[49m\u001b[43mx\u001b[49m\u001b[43m)\u001b[49m)\n",
      "Cell \u001b[0;32mIn[55], line 4\u001b[0m, in \u001b[0;36mf1\u001b[0;34m(x)\u001b[0m\n\u001b[1;32m      3\u001b[0m \u001b[38;5;28;01mdef\u001b[39;00m \u001b[38;5;21mf1\u001b[39m(x):\n\u001b[0;32m----> 4\u001b[0m      \u001b[38;5;28;01mreturn\u001b[39;00m (\u001b[43mmath\u001b[49m\u001b[38;5;241;43m.\u001b[39;49m\u001b[43me\u001b[49m\u001b[38;5;241;43m*\u001b[39;49m\u001b[38;5;241;43m*\u001b[39;49m\u001b[43m(\u001b[49m\u001b[38;5;241;43m1\u001b[39;49m\u001b[38;5;241;43m/\u001b[39;49m\u001b[43mx\u001b[49m\u001b[43m)\u001b[49m) \u001b[38;5;241m/\u001b[39m (\u001b[38;5;241m1\u001b[39m \u001b[38;5;241m+\u001b[39m math\u001b[38;5;241m.\u001b[39me\u001b[38;5;241m*\u001b[39m\u001b[38;5;241m*\u001b[39m(\u001b[38;5;241m1\u001b[39m\u001b[38;5;241m/\u001b[39mx))\n",
      "\u001b[0;31mOverflowError\u001b[0m: (34, 'Numerical result out of range')"
     ]
    }
   ],
   "source": [
    "# f2 é melhor para caluclar com valores muito pequenos porque a expressão math.e**(1/x) gera valores muito grandes\n",
    "# que causam erro de overflow, o que não é o caso para math.e**(-1/x) que gera valores pequenos\n",
    "\n",
    "import math\n",
    "\n",
    "def f1(x):\n",
    "     return (math.e**(1/x)) / (1 + math.e**(1/x))\n",
    "\n",
    "def f2(x):\n",
    "    y = 1 / (math.e**(-1/x) + 1)\n",
    "    return y\n",
    "\n",
    "for x in [0.1, 0.02, 0.01, 0.002, 0.0015, 0.001]:\n",
    "    print(\"x: \", x)\n",
    "    print(\"f2: \", f2(x))\n",
    "    print(\"f1: \", f1(x))"
   ]
  },
  {
   "cell_type": "markdown",
   "metadata": {
    "colab_type": "text",
    "id": "5btO1b573yTz"
   },
   "source": [
    "**Questão 4:**\n",
    "A fórmula de Leibniz para o número $\\pi$ é dada pela série infinita $\\frac{\\pi}{4} = \\sum_{n=0}^{\\infty}\\frac{(-1)^n}{2n+1}$. Apresente um programa em Python para obter uma aproximações para $\\pi$ usando 50 termos da série. Calcule os erros absoluto e relativo."
   ]
  },
  {
   "cell_type": "code",
   "execution_count": null,
   "metadata": {
    "colab": {},
    "colab_type": "code",
    "id": "mn7ycW0q36BZ"
   },
   "outputs": [],
   "source": []
  },
  {
   "cell_type": "markdown",
   "metadata": {
    "colab_type": "text",
    "id": "1OE2iuCh37md"
   },
   "source": [
    "**Questão 5:**\n",
    "Apresente um programa em Python para obter aproximações para o valor da função\n",
    "$f(x) = ln(1 + x)$ usando expansões em séries de Taylor em torno do ponto $x = 0$. Descubra quantos termos da série precisam ser retidos para calcular $ln(0.72)$ com erro relativo inferior a 0.0001."
   ]
  },
  {
   "cell_type": "code",
   "execution_count": null,
   "metadata": {},
   "outputs": [],
   "source": []
  },
  {
   "cell_type": "markdown",
   "metadata": {},
   "source": [
    "**Questão 6:** Seja a função $f(x)=e^{x-2}+x^5-1$. Achar usando o método da bisseção o valor de $x$ para o qual $f(x)=2$ com $\\epsilon=0.001$."
   ]
  },
  {
   "cell_type": "code",
   "execution_count": null,
   "metadata": {},
   "outputs": [],
   "source": []
  },
  {
   "cell_type": "markdown",
   "metadata": {},
   "source": [
    "**Questão 7:** Calcule todas as raízes de $f(x)=lnx-x+2=0$ pelo método do  Aproximações Sucessivas (Ponto-Fixo) até que o erro relativo seja inferior a 0.0001. Em seguida, use o Método de Newton para resolver a mesma equação e compare os resultados comentando sobre o que você observou."
   ]
  },
  {
   "cell_type": "code",
   "execution_count": null,
   "metadata": {},
   "outputs": [],
   "source": []
  },
  {
   "cell_type": "markdown",
   "metadata": {
    "colab_type": "text",
    "id": "iXCTzXIn4G67"
   },
   "source": [
    "**Questão 8:**\n",
    "Como mostrado na figura abaixo, a velocidade da água, $v(m/s)$, descarregada de um tanque cilíndrico através de um cano longo pode ser calculada por\n",
    "\n",
    "<p style=\"text-align:center;\">\n",
    "$ v = \\sqrt{2gH}$ tanh $\\left( \\frac{\\sqrt{2gH}}{2L}t \\right)$\n",
    "</p>\n",
    "\n",
    "<figure>\n",
    "  <img src=\"tanque_de_agua.png\" alt=\"Trulli\" style=\"width:40%\">\n",
    "</figure>\n",
    "\n",
    "em que $g=9.81m/s^2$, $H$ é a altura inicial $(m)$, $L$ é o comprimento do cano ($m$) e $t$ é o tempo decorrido ($s$). Determine a altura necessária para atingir $v=5m/s$ em $2.5s$ para um cano de $4m$ de comprimento pelo método da bisseção e pelo método do ponto-fixo com $\\epsilon =  0.001$"
   ]
  },
  {
   "cell_type": "code",
   "execution_count": null,
   "metadata": {},
   "outputs": [],
   "source": []
  },
  {
   "cell_type": "markdown",
   "metadata": {},
   "source": [
    "**Questão 9:** O reservatório mostrado abaixo tem a forma de uma semiesfera de raio $4 m$ e não pode ser preenchido com volume de fluido superior a $50 m^3$.  Dessa forma, é preciso determinar o nível $h$ máximo nesse recipiente para não ultrapassar o volume limite. Determine o valor de $h$ com erro inferior a $10^{-3}$ usando  o método de sua escolha. Comente os resultados.\n",
    "\n",
    "<figure>\n",
    "  <img src=\"tanque_esferico.jpg\" alt=\"Trulli\" style=\"width:20%\">\n",
    "</figure>\n",
    "\n",
    "A fórmula que calcula o volume com os dados exibidos na figura é $V=\\frac{\\pi}{3}h^2(3R-h)$.\n"
   ]
  },
  {
   "cell_type": "code",
   "execution_count": null,
   "metadata": {},
   "outputs": [],
   "source": []
  },
  {
   "cell_type": "markdown",
   "metadata": {},
   "source": [
    "**Questão 10:**\n",
    "Considere a função \n",
    "$$f(x)=x^{3}-2x^{2}-11x+12$$\n",
    "Aplique o método de Newton-Raphson para os seguintes pontos inciais:\n",
    "\n",
    "\\begin{align*}\n",
    "a_0& = 2.35287527 &% converges to 4;\n",
    "b_0& =2.35284172\\\\% converges to ?3;\n",
    "c_0& =2.35283735&% converges to 4;\n",
    "d_0& =2.352836327\\\\% converges to ?3;\n",
    "e_0& =2.352836323% converges to 1.\n",
    "\\end{align*}\n",
    "e analise a convergência em cada caso. Dê uma justificativa não unicamente numérica do porquê estes resultados são obtidos. Use também o método de Newton com Briot-Ruffini para um desses pontos, compare e comente o resultado."
   ]
  },
  {
   "cell_type": "code",
   "execution_count": null,
   "metadata": {},
   "outputs": [],
   "source": []
  }
 ],
 "metadata": {
  "colab": {
   "name": "T1_notebook.ipynb",
   "provenance": []
  },
  "kernelspec": {
   "display_name": "Python 3 (ipykernel)",
   "language": "python",
   "name": "python3"
  },
  "language_info": {
   "codemirror_mode": {
    "name": "ipython",
    "version": 3
   },
   "file_extension": ".py",
   "mimetype": "text/x-python",
   "name": "python",
   "nbconvert_exporter": "python",
   "pygments_lexer": "ipython3",
   "version": "3.10.12"
  }
 },
 "nbformat": 4,
 "nbformat_minor": 4
}
