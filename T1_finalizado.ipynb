{
  "cells": [
    {
      "cell_type": "markdown",
      "id": "9c2c76a0",
      "metadata": {
        "id": "9c2c76a0"
      },
      "source": [
        "## Trabalho T1 sobre Erros e Zeros de Funções\n",
        "\n",
        "### Métodos Numéricos Computacionais\n",
        "### UFSM - 2º Semestre de 2023"
      ]
    },
    {
      "cell_type": "markdown",
      "id": "9919a25d",
      "metadata": {
        "id": "9919a25d"
      },
      "source": [
        "**Nome dos componentes do grupo:** Pedro Henrique Warken Ramos"
      ]
    },
    {
      "cell_type": "markdown",
      "id": "d35375ec",
      "metadata": {
        "id": "d35375ec"
      },
      "source": [
        "**Questão 1:**\n",
        "\n",
        "A série de Maclaurin para a função arco-tangente converge para $-1<x \\leq 1$ e é determinada por\n",
        "\n",
        "$$\n",
        "\\operatorname{arctg} x=\\lim _{n \\rightarrow \\infty} P_n(x)=\\lim _{n \\rightarrow \\infty} \\sum_{i=1}^n(-1)^{i+1} \\frac{x^{2 i-1}}{2 i-1} .\n",
        "$$\n",
        "\n",
        "**a.** Use $o$ fato de que $\\operatorname{tg} \\pi / 4=1$ para determinar o número $n$ de termos da série que precisam ser somados para garantir que $\\left|4 P_n(1)-\\pi\\right|<10^{-3}$.\n",
        "\n",
        "**b.** A linguagem de programação $\\mathrm{C}++$ exige que o valor de $\\pi$ seja conhecido com precisão de $10^{-10}$. Quantos termos da série seriam necessários somar para obter essa ordem de precisão?\n",
        "\n",
        "**c.** O método mostrado acima pode ser substancialmente melhorado observando que $\\pi / 4=\\operatorname{arctg} \\frac{1}{2}+\\operatorname{arctg} \\frac{1}{3}$ e calculando a série para o arco-tangente em $\\frac{1}{2}$ e em $\\frac{1}{3}$. Determine o número de termos que devem ser somados para garantir uma aproximação de $\\pi$ com precisão de $10^{-3}$."
      ]
    },
    {
      "cell_type": "code",
      "execution_count": null,
      "id": "df58ac74",
      "metadata": {
        "colab": {
          "base_uri": "https://localhost:8080/"
        },
        "id": "df58ac74",
        "outputId": "b103a78e-b865-4156-fc6c-5181d965f862"
      },
      "outputs": [
        {
          "output_type": "stream",
          "name": "stdout",
          "text": [
            "letra a: \n",
            "(0.7851481634599485, 1000)\n",
            "letra b: \n",
            "(0.7854006633724301, 100001)\n",
            "letra c: \n",
            "pi: 3.1417411974336886 em 5 iterações\n"
          ]
        }
      ],
      "source": [
        "import math\n",
        "### Letra a)\n",
        "def relative_error(result, prev_result):\n",
        "  if result == 0: return 1\n",
        "  return abs(result-prev_result)/abs(result)\n",
        "\n",
        "def maclaurin_arctgN(x, precisao):\n",
        "  result = 0\n",
        "  i = 1\n",
        "  signal = (-1)**(i+1)\n",
        "  numerator = x**(2*i-1)\n",
        "  denominator = 2*i-1\n",
        "  result += signal*(numerator/denominator)\n",
        "  while abs(4* result - math.pi) > precisao:\n",
        "    i += 1\n",
        "    signal = (-1)**(i+1)\n",
        "    numerator = x**(2*i-1)\n",
        "    denominator = 2*i-1\n",
        "    result += signal*(numerator/denominator)\n",
        "  return result, i\n",
        "\n",
        "def calculate_maclaurin(x, i):\n",
        "    signal = (-1)**(i+1)\n",
        "    numerator = x**(2*i-1)\n",
        "    denominator = 2*i-1\n",
        "    return signal*(numerator/denominator)\n",
        "\n",
        "def find_pi_with_maclaurin(precisao):\n",
        "  i = 0\n",
        "  pi = 0\n",
        "  pi_ant = 0\n",
        "  x1 = 1/2\n",
        "  x2 = 1/3\n",
        "  while relative_error(pi, pi_ant) > precisao:\n",
        "    i += 1\n",
        "    pi_ant = pi\n",
        "    pi += (calculate_maclaurin(x1, i) + calculate_maclaurin(x2, i)) *4\n",
        "\n",
        "  return pi, i\n",
        "\n",
        "\n",
        "def letra_a():\n",
        "  print(\"letra a: \")\n",
        "  print(maclaurin_arctgN(1, 1e-3))\n",
        "\n",
        "letra_a()\n",
        "\n",
        "def letra_b():\n",
        "  print(\"letra b: \")\n",
        "  print(maclaurin_arctgN(1, 1e-10))\n",
        "\n",
        "letra_b() # Não executa com 10^-10. Usando 10^-8 levou 2 minutos e 14s\n",
        "\n",
        "def letra_c():\n",
        "  print(\"letra c: \")\n",
        "  pi, count = find_pi_with_maclaurin(1e-3)\n",
        "  print(f\"pi: {pi} em {count} iterações\")\n",
        "\n",
        "letra_c()\n",
        "\n"
      ]
    },
    {
      "cell_type": "markdown",
      "id": "7055c6e7",
      "metadata": {
        "id": "7055c6e7"
      },
      "source": [
        "**Questão 2:** A sequência $\\left\\{F_n\\right\\}$, descrita por $F_0=1, F_1=1$ e $F_{n+2}=F_n+F_{n+1}$ se $n \\geq 0$, é chamada *sequência de Fibonacci*.\n",
        "\n",
        "**a** Considere a sequência $\\left\\{x_n\\right\\}$, onde $x_n=F_{n+1} / F_n$. Verifique numéricamente que para valores cada vez maiores de $n$ a sequência parece se aproximar cada vex mais do número $x=(1+\\sqrt{5}) / 2$. Que número é esse?\n",
        "\n",
        "\n",
        "**b.** Verifique numericamente que o mesmo resiltado pode ser obtido por\n",
        "\n",
        "$$\n",
        "\\tilde{F}_n=\\frac{1}{\\sqrt{5}}\\left[\\left(\\frac{1+\\sqrt{5}}{2}\\right)^n-\\left(\\frac{1-\\sqrt{5}}{2}\\right)^n\\right] .\n",
        "$$"
      ]
    },
    {
      "cell_type": "code",
      "execution_count": null,
      "id": "d2e393b5",
      "metadata": {
        "id": "d2e393b5",
        "colab": {
          "base_uri": "https://localhost:8080/"
        },
        "outputId": "96d14ea6-8029-49cf-eff5-196e925b7fd5"
      },
      "outputs": [
        {
          "output_type": "stream",
          "name": "stdout",
          "text": [
            "1.0 0\n",
            "1.0 1\n",
            "1.0 2\n",
            "2.0 3\n",
            "1.5 4\n",
            "1.6666666666666667 5\n",
            "1.6 6\n",
            "1.625 7\n",
            "1.6153846153846154 8\n",
            "1.619047619047619 9\n",
            "1.6176470588235294 10\n",
            "1.6181818181818182 11\n",
            "1.6179775280898876 12\n",
            "1.6180555555555556 13\n",
            "1.6180257510729614 14\n",
            "1.6180371352785146 15\n",
            "1.618032786885246 16\n",
            "1.618034447821682 17\n",
            "1.6180338134001253 18\n",
            "1.618034055727554 19\n"
          ]
        }
      ],
      "source": [
        "# questão a)\n",
        "def fibonacciA(n):\n",
        "    fib_sequence = [0, 1]\n",
        "\n",
        "    while len(fib_sequence) < n:\n",
        "        next_number = fib_sequence[-1] + fib_sequence[-2]\n",
        "        fib_sequence.append(next_number)\n",
        "\n",
        "    return fib_sequence[-1]\n",
        "\n",
        "for n in range(20):\n",
        "  xn = fibonacciA(n + 1) / fibonacciA(n)\n",
        "  print(xn, n)\n",
        "\n",
        "# (1+sqrt(5))/2 é conhecido como o número de ouro, é um número irracional com\n",
        "# propriedades matemáticas interessantes. Uma das propriedades mais conhecidas\n",
        "# do número de ouro é a sua relação com a proporção áurea. Se você tiver um segmento\n",
        "# de linha dividido em duas partes, de modo que a razão entre a linha inteira\n",
        "# (a + b) e a parte mais longa (a) seja igual à razão entre a parte mais longa\n",
        "# (a) e a parte mais curta (b), então essa razão é igual ao número de ouro\n",
        "\n",
        "\n"
      ]
    },
    {
      "cell_type": "code",
      "source": [
        "import math\n",
        "# questão b)\n",
        "def fibonacciB(n):\n",
        "  termo1 = 1/math.sqrt(5)\n",
        "  termo2 = ((1 + math.sqrt(5))/2)**n\n",
        "  termo3 = ((1 - math.sqrt(5))/2)**n\n",
        "  return termo1 * (termo2 - termo3)\n",
        "\n",
        "print(fibonacciB(n+1) / fibonacciB(n))\n"
      ],
      "metadata": {
        "colab": {
          "base_uri": "https://localhost:8080/"
        },
        "id": "RNwY_AMZim0C",
        "outputId": "770faf55-aa92-4081-9987-4c41f8462bed"
      },
      "id": "RNwY_AMZim0C",
      "execution_count": null,
      "outputs": [
        {
          "output_type": "stream",
          "name": "stdout",
          "text": [
            "1.618033988749895\n"
          ]
        }
      ]
    },
    {
      "cell_type": "markdown",
      "id": "c9e7c146",
      "metadata": {
        "id": "c9e7c146"
      },
      "source": [
        "**Questão 3.** Utilize o método da bisseção, o método do ponto fixo (se possível), o método de Newton e das secantes para determinar todas as soluções das equações abaixo com precisão de $10^{-5}$:\n",
        "\n",
        "**a.** $x^2-4 x+4-\\ln x=0 \\quad$\n",
        "\n",
        "**b.** $x+1-2 \\operatorname{sen} \\pi x=0 \\quad$  \n",
        "\n",
        "**c.** $3 x^2-e^x=0$\n",
        "\n",
        "Para cada uma das equações faça um gráfico com as curvas *erro $\\times$ iteração* de cada método utilizado. Comente os resultados que você obteve."
      ]
    },
    {
      "cell_type": "code",
      "execution_count": null,
      "id": "06a7993d",
      "metadata": {
        "id": "06a7993d",
        "colab": {
          "base_uri": "https://localhost:8080/"
        },
        "outputId": "102b9f7a-dfb2-408d-e4f0-ddc0f9009602"
      },
      "outputs": [
        {
          "output_type": "stream",
          "name": "stdout",
          "text": [
            "bissecao\n",
            "f1: raiz 3.0571060180664062\n",
            "f2: raiz -2.6819686889648438\n",
            "f3: raiz -0.45896606445312504\n",
            "ponto_fixo\n",
            "f1: raiz 3.057086336519024\n",
            "f2: raiz -1.0000000000000029\n",
            "f3: raiz 0.9100003573265589\n",
            "método de newton\n",
            "f1: raiz 3.0571060546916\n",
            "f2: raiz -2.6819748091887536\n",
            "f3: raiz -0.45896228123816246\n",
            "método das secantes\n",
            "f1: raiz 3.05710399935055\n",
            "f2: raiz -2.6819745517670635\n",
            "f3: raiz -0.458962640531104\n"
          ]
        }
      ],
      "source": [
        "import math\n",
        "def bissecao(funcao, a, b, tolerancia):\n",
        "    if funcao(a) * funcao(b) >= 0:\n",
        "        raise ValueError(\"A função deve ter sinais opostos em a e b.\")\n",
        "\n",
        "    while (b - a) / 2.0 > tolerancia:\n",
        "        c = (a + b) / 2.0\n",
        "        if funcao(c) == 0:\n",
        "            return c\n",
        "        elif funcao(c) * funcao(a) < 0:\n",
        "            b = c\n",
        "        else:\n",
        "            a = c\n",
        "\n",
        "    return (a + b) / 2.0\n",
        "\n",
        "def ponto_fixo(funcao, ponto_inicial, tolerancia, max_iter):\n",
        "    iteracao = 0\n",
        "    x_atual = ponto_inicial\n",
        "    i = 0\n",
        "\n",
        "    try:\n",
        "      while iteracao < max_iter:\n",
        "        i += 1\n",
        "        x_proximo = funcao(x_atual)\n",
        "        erro = abs(x_proximo - x_atual)\n",
        "\n",
        "        if erro < tolerancia:\n",
        "            return x_proximo\n",
        "\n",
        "        x_atual = x_proximo\n",
        "        iteracao += 1\n",
        "      raise Exception(\"Limite alcançado\")\n",
        "    except:\n",
        "      print(f\"Não foi possível chegar no resultado desejado: {i} iterações\")\n",
        "\n",
        "def metodo_newton(funcao, derivada, x_inicial, tolerancia, max_iter):\n",
        "  iteracao = 0\n",
        "  x_atual = x_inicial\n",
        "\n",
        "  while iteracao < max_iter:\n",
        "      f_x_atual = funcao(x_atual)\n",
        "      if abs(f_x_atual) < tolerancia:\n",
        "          return x_atual\n",
        "\n",
        "      f_x_derivada = derivada(x_atual)\n",
        "      if f_x_derivada == 0:\n",
        "          raise ValueError(\"A derivada se tornou zero. O método de Newton não pode continuar.\")\n",
        "\n",
        "      x_proximo = x_atual - f_x_atual / f_x_derivada\n",
        "      erro = abs(x_proximo - x_atual)\n",
        "\n",
        "      if erro < tolerancia:\n",
        "          return x_proximo\n",
        "\n",
        "      x_atual = x_proximo\n",
        "      iteracao += 1\n",
        "\n",
        "  raise Exception(f'O método de Newton não convergiu após {max_iter} iterações.')\n",
        "\n",
        "def metodo_secantes(funcao, x0, x1, tolerancia, max_iter):\n",
        "    iteracao = 0\n",
        "    while iteracao < max_iter:\n",
        "        f_x0 = funcao(x0)\n",
        "        f_x1 = funcao(x1)\n",
        "\n",
        "        if abs(f_x1) < tolerancia:\n",
        "            return x1\n",
        "\n",
        "        x_proximo = x1 - f_x1 * (x1 - x0) / (f_x1 - f_x0)\n",
        "        erro = abs(x_proximo - x1)\n",
        "\n",
        "        if erro < tolerancia:\n",
        "            return x_proximo\n",
        "\n",
        "        x0, x1 = x1, x_proximo\n",
        "        iteracao += 1\n",
        "\n",
        "    raise Exception(f'O método das secantes não convergiu após {max_iter} iterações.')\n",
        "\n",
        "\n",
        "def f1(x):\n",
        "  return x**2 -4*x + 4 - math.log(x, math.e)\n",
        "\n",
        "def phi1(x):\n",
        "  return math.sqrt(4*x - 4 + math.log(x, math.e))\n",
        "\n",
        "def f1_derivada(x):\n",
        "  return 2*x - 4 - 1/x\n",
        "\n",
        "def f2(x):\n",
        "  return x + 1 - 2*math.sin(math.pi*x)\n",
        "\n",
        "def phi2(x):\n",
        "  return -1 + 2*math.sin(math.pi*x)\n",
        "\n",
        "def f2_derivada(x):\n",
        "  return 1 - 2*math.pi*math.cos(math.pi*x)\n",
        "\n",
        "def f3(x):\n",
        "  return 3*x**2 - math.e**x\n",
        "\n",
        "def phi3(x):\n",
        "  return math.sqrt((math.e**x)/3)\n",
        "\n",
        "def f3_derivada(x):\n",
        "  return 6*x - math.e**x\n",
        "\n",
        "print(\"bissecao\")\n",
        "print(f\"f1: raiz {bissecao(f1, 2, 4, 1e-5)}\")\n",
        "print(f\"f2: raiz {bissecao(f2, -3, -2.5, 1e-5)}\")\n",
        "print(f\"f3: raiz {bissecao(f3, -0.6, -0.4, 1e-5)}\")\n",
        "print(\"ponto_fixo\")\n",
        "print(f\"f1: raiz {ponto_fixo(phi1, 2, 1e-5, 100)}\")\n",
        "print(f\"f2: raiz {ponto_fixo(phi2, -2, 1e-5, 100)}\")\n",
        "print(f\"f3: raiz {ponto_fixo(phi3, -1, 1e-5, 100)}\")\n",
        "print(\"método de newton\")\n",
        "print(f\"f1: raiz {metodo_newton(f1, f1_derivada, 3, 1e-5, 100)}\")\n",
        "print(f\"f2: raiz {metodo_newton(f2, f2_derivada, -3, 1e-5, 100)}\")\n",
        "print(f\"f3: raiz {metodo_newton(f3, f3_derivada, -0.6, 1e-5, 100)}\")\n",
        "print(\"método das secantes\")\n",
        "print(f\"f1: raiz {metodo_secantes(f1, 2, 3, 1e-5, 100)}\")\n",
        "print(f\"f2: raiz {metodo_secantes(f2, -2.8, -2, 1e-5, 100)}\")\n",
        "print(f\"f3: raiz {metodo_secantes(f3, -1, -0.6, 1e-5, 100)}\")\n",
        "\n",
        "\n"
      ]
    },
    {
      "cell_type": "markdown",
      "id": "492c86b3",
      "metadata": {
        "id": "492c86b3"
      },
      "source": [
        "**Questão 4:** Um objeto em queda vertical no ar está sujeito à resistência viscosa, bem como à força da gravidade. Suponha que um objeto com massa $m$ seja solto a uma altura $s_0$ e que a altura do objeto após $t$ segundos seja\n",
        "$$\n",
        "s(t)=s_0-\\frac{m g}{k} t+\\frac{m^2 g}{k^2}\\left(1-e^{-k t / m}\\right),\n",
        "$$\n",
        "onde $g=32,17$ pés $/ \\mathrm{s}^2$ e $k$ representa o coeficiente de resistência do ar em lb-s/pé. Suponha que $s_0=300$ pés, $m=0,25$ lb e $k=0,1$ lb-s/pé. Determine, com precisão de $0,01$ s, o tempo decorrido até que o objeto alcance o solo. Use o método de sua escolha."
      ]
    },
    {
      "cell_type": "code",
      "execution_count": null,
      "id": "b38926a1",
      "metadata": {
        "id": "b38926a1",
        "colab": {
          "base_uri": "https://localhost:8080/"
        },
        "outputId": "54b01b2c-c5ad-456e-e60d-1fc55f58996e"
      },
      "outputs": [
        {
          "output_type": "stream",
          "name": "stdout",
          "text": [
            "71.72664961423854 -74.13912321658293\n",
            "6.003726308757905\n"
          ]
        }
      ],
      "source": [
        "import math\n",
        "\n",
        "def bissecao(funcao, a, b, tolerancia):\n",
        "    if funcao(a) * funcao(b) >= 0:\n",
        "        raise ValueError(\"A função deve ter sinais opostos em a e b.\")\n",
        "\n",
        "    while (b - a) / 2.0 > tolerancia:\n",
        "        c = (a + b) / 2.0\n",
        "        if funcao(c) == 0:\n",
        "            return c\n",
        "        elif funcao(c) * funcao(a) < 0:\n",
        "            b = c\n",
        "        else:\n",
        "            a = c\n",
        "\n",
        "    return (a + b) / 2.0\n",
        "\n",
        "def s(t):\n",
        "  s0 = 300\n",
        "  m = 0.25\n",
        "  k = 0.1\n",
        "  g = 32.17\n",
        "  y = s0 - m*g/k*t + (m**2*g/k**2)*(1 - math.e**(-k*t/m))\n",
        "  return y\n",
        "\n",
        "print(s(5), s(7))\n",
        "print(bissecao(s, 5, 7, 1e-10))"
      ]
    },
    {
      "cell_type": "markdown",
      "id": "6a667b51",
      "metadata": {
        "id": "6a667b51"
      },
      "source": [
        "**Questão 5:** Uma partícula começa a se movimentar sobre um plano inclinado liso cujo ângulo $\\theta$ está variando com velocidade constante\n",
        "\n",
        "$$\n",
        "\\frac{d \\theta}{d t}=\\omega<0\n",
        "$$\n",
        "\n",
        "Depois de $t$ segundos, a posição do objeto é dada por\n",
        "\n",
        "$$\n",
        "x(t)=-\\frac{g}{2 \\omega^2}\\left(\\frac{e^{\\omega t}-e^{-\\omega t}}{2}-\\operatorname{sen} \\omega t\\right) .\n",
        "$$\n",
        "\n",
        "Suponha que a partícula tenha se deslocado $52$ cm em $1$ segundo. Determine, com precisão de $10^{-5}$, a velocidade $\\omega \\operatorname{com}$ a qual $\\theta$ varia. Suponha que $g=9,8 \\mathrm{m} / \\mathrm{s}^2$. Use o método que preferir e justifique sua escolha.  \n",
        "\n",
        "![fig_triang.png](fig_triang.png)"
      ]
    },
    {
      "cell_type": "code",
      "execution_count": null,
      "id": "9f786130",
      "metadata": {
        "id": "9f786130",
        "colab": {
          "base_uri": "https://localhost:8080/"
        },
        "outputId": "6c038a66-4ffe-4951-f42f-d119427b5592"
      },
      "outputs": [
        {
          "output_type": "stream",
          "name": "stdout",
          "text": [
            "A velocidade w é: \n",
            "-0.3183588981628418\n"
          ]
        }
      ],
      "source": [
        "import math\n",
        "\n",
        "g = 9.8\n",
        "x_target = 0.52\n",
        "t_target = 1.0\n",
        "epsilon = 1e-5\n",
        "\n",
        "def bissecao(funcao, a, b, tolerancia):\n",
        "    if funcao(a) * funcao(b) >= 0:\n",
        "        raise ValueError(\"A função deve ter sinais opostos em a e b.\")\n",
        "\n",
        "    while (b - a) / 2.0 > tolerancia:\n",
        "        c = (a + b) / 2.0\n",
        "        if funcao(c) == 0:\n",
        "            return c\n",
        "        elif funcao(c) * funcao(a) < 0:\n",
        "            b = c\n",
        "        else:\n",
        "            a = c\n",
        "\n",
        "    return (a + b) / 2.0\n",
        "\n",
        "\n",
        "def x(w):\n",
        "  t = t_target\n",
        "  y = (-g/(2*w**2))*((math.e**(w*t)-math.e**(-w*t))/2 - math.sin(w*t)) - x_target\n",
        "  return y\n",
        "\n",
        "print(\"A velocidade w é: \")\n",
        "print(bissecao(x, -1, 10, epsilon))"
      ]
    }
  ],
  "metadata": {
    "kernelspec": {
      "display_name": "Python 3",
      "language": "python",
      "name": "python3"
    },
    "language_info": {
      "codemirror_mode": {
        "name": "ipython",
        "version": 3
      },
      "file_extension": ".py",
      "mimetype": "text/x-python",
      "name": "python",
      "nbconvert_exporter": "python",
      "pygments_lexer": "ipython3",
      "version": "3.8.5"
    },
    "colab": {
      "provenance": []
    }
  },
  "nbformat": 4,
  "nbformat_minor": 5
}